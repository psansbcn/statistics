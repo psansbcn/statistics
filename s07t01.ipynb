{
 "cells": [
  {
   "cell_type": "markdown",
   "id": "a7a4fbea",
   "metadata": {},
   "source": [
    "### S7 Tasca 1\n",
    "##### Exercici 1"
   ]
  },
  {
   "cell_type": "code",
   "execution_count": 1,
   "id": "59161be7",
   "metadata": {},
   "outputs": [],
   "source": [
    "import pandas as pd\n",
    "import seaborn as sns\n",
    "import numpy as np"
   ]
  },
  {
   "cell_type": "code",
   "execution_count": 2,
   "id": "ee9a4abd",
   "metadata": {},
   "outputs": [
    {
     "data": {
      "text/html": [
       "<div>\n",
       "<style scoped>\n",
       "    .dataframe tbody tr th:only-of-type {\n",
       "        vertical-align: middle;\n",
       "    }\n",
       "\n",
       "    .dataframe tbody tr th {\n",
       "        vertical-align: top;\n",
       "    }\n",
       "\n",
       "    .dataframe thead th {\n",
       "        text-align: right;\n",
       "    }\n",
       "</style>\n",
       "<table border=\"1\" class=\"dataframe\">\n",
       "  <thead>\n",
       "    <tr style=\"text-align: right;\">\n",
       "      <th></th>\n",
       "      <th>year</th>\n",
       "      <th>sports</th>\n",
       "      <th>womens_events</th>\n",
       "      <th>total_events</th>\n",
       "      <th>%_of_womens_events</th>\n",
       "      <th>women_participants</th>\n",
       "      <th>%_of_women_participants</th>\n",
       "    </tr>\n",
       "  </thead>\n",
       "  <tbody>\n",
       "    <tr>\n",
       "      <th>0</th>\n",
       "      <td>1900</td>\n",
       "      <td>2</td>\n",
       "      <td>2</td>\n",
       "      <td>95</td>\n",
       "      <td>2.1</td>\n",
       "      <td>22</td>\n",
       "      <td>2.2</td>\n",
       "    </tr>\n",
       "    <tr>\n",
       "      <th>1</th>\n",
       "      <td>1904</td>\n",
       "      <td>1</td>\n",
       "      <td>3</td>\n",
       "      <td>91</td>\n",
       "      <td>3.3</td>\n",
       "      <td>6</td>\n",
       "      <td>0.9</td>\n",
       "    </tr>\n",
       "    <tr>\n",
       "      <th>2</th>\n",
       "      <td>1908</td>\n",
       "      <td>2</td>\n",
       "      <td>4</td>\n",
       "      <td>110</td>\n",
       "      <td>3.6</td>\n",
       "      <td>37</td>\n",
       "      <td>1.8</td>\n",
       "    </tr>\n",
       "    <tr>\n",
       "      <th>3</th>\n",
       "      <td>1912</td>\n",
       "      <td>2</td>\n",
       "      <td>5</td>\n",
       "      <td>102</td>\n",
       "      <td>4.9</td>\n",
       "      <td>48</td>\n",
       "      <td>2.0</td>\n",
       "    </tr>\n",
       "    <tr>\n",
       "      <th>4</th>\n",
       "      <td>1920</td>\n",
       "      <td>2</td>\n",
       "      <td>8</td>\n",
       "      <td>154</td>\n",
       "      <td>5.2</td>\n",
       "      <td>63</td>\n",
       "      <td>2.4</td>\n",
       "    </tr>\n",
       "    <tr>\n",
       "      <th>5</th>\n",
       "      <td>1924</td>\n",
       "      <td>3</td>\n",
       "      <td>10</td>\n",
       "      <td>126</td>\n",
       "      <td>7.9</td>\n",
       "      <td>135</td>\n",
       "      <td>4.4</td>\n",
       "    </tr>\n",
       "    <tr>\n",
       "      <th>6</th>\n",
       "      <td>1928</td>\n",
       "      <td>4</td>\n",
       "      <td>14</td>\n",
       "      <td>109</td>\n",
       "      <td>12.8</td>\n",
       "      <td>277</td>\n",
       "      <td>9.6</td>\n",
       "    </tr>\n",
       "    <tr>\n",
       "      <th>7</th>\n",
       "      <td>1932</td>\n",
       "      <td>3</td>\n",
       "      <td>14</td>\n",
       "      <td>117</td>\n",
       "      <td>12.0</td>\n",
       "      <td>126</td>\n",
       "      <td>9.0</td>\n",
       "    </tr>\n",
       "    <tr>\n",
       "      <th>8</th>\n",
       "      <td>1936</td>\n",
       "      <td>4</td>\n",
       "      <td>15</td>\n",
       "      <td>129</td>\n",
       "      <td>11.6</td>\n",
       "      <td>331</td>\n",
       "      <td>8.3</td>\n",
       "    </tr>\n",
       "    <tr>\n",
       "      <th>9</th>\n",
       "      <td>1948</td>\n",
       "      <td>5</td>\n",
       "      <td>19</td>\n",
       "      <td>136</td>\n",
       "      <td>14.0</td>\n",
       "      <td>390</td>\n",
       "      <td>9.5</td>\n",
       "    </tr>\n",
       "  </tbody>\n",
       "</table>\n",
       "</div>"
      ],
      "text/plain": [
       "   year  sports  womens_events  total_events  %_of_womens_events  \\\n",
       "0  1900       2              2            95                 2.1   \n",
       "1  1904       1              3            91                 3.3   \n",
       "2  1908       2              4           110                 3.6   \n",
       "3  1912       2              5           102                 4.9   \n",
       "4  1920       2              8           154                 5.2   \n",
       "5  1924       3             10           126                 7.9   \n",
       "6  1928       4             14           109                12.8   \n",
       "7  1932       3             14           117                12.0   \n",
       "8  1936       4             15           129                11.6   \n",
       "9  1948       5             19           136                14.0   \n",
       "\n",
       "   women_participants  %_of_women_participants  \n",
       "0                  22                      2.2  \n",
       "1                   6                      0.9  \n",
       "2                  37                      1.8  \n",
       "3                  48                      2.0  \n",
       "4                  63                      2.4  \n",
       "5                 135                      4.4  \n",
       "6                 277                      9.6  \n",
       "7                 126                      9.0  \n",
       "8                 331                      8.3  \n",
       "9                 390                      9.5  "
      ]
     },
     "execution_count": 2,
     "metadata": {},
     "output_type": "execute_result"
    }
   ],
   "source": [
    "df = pd.read_csv('summer_o.csv',warn_bad_lines=True, error_bad_lines=False)\n",
    "df.head(10)"
   ]
  },
  {
   "cell_type": "code",
   "execution_count": 3,
   "id": "73e2b713",
   "metadata": {},
   "outputs": [
    {
     "data": {
      "text/plain": [
       "year                       0\n",
       "sports                     0\n",
       "womens_events              0\n",
       "total_events               0\n",
       "%_of_womens_events         0\n",
       "women_participants         0\n",
       "%_of_women_participants    0\n",
       "dtype: int64"
      ]
     },
     "execution_count": 3,
     "metadata": {},
     "output_type": "execute_result"
    }
   ],
   "source": [
    "df.isnull().sum()"
   ]
  },
  {
   "cell_type": "markdown",
   "id": "a901974d",
   "metadata": {},
   "source": [
    "##### Calcular la desviació estàndard. "
   ]
  },
  {
   "cell_type": "code",
   "execution_count": 4,
   "id": "7958cc16",
   "metadata": {},
   "outputs": [
    {
     "data": {
      "text/plain": [
       "1686.4114456746802"
      ]
     },
     "execution_count": 4,
     "metadata": {},
     "output_type": "execute_result"
    }
   ],
   "source": [
    "df['women_participants'].std(axis = 0, skipna = True)"
   ]
  },
  {
   "cell_type": "markdown",
   "id": "5682b4a9",
   "metadata": {},
   "source": [
    "##### Calcular la mediana. "
   ]
  },
  {
   "cell_type": "code",
   "execution_count": 5,
   "id": "abeee602",
   "metadata": {},
   "outputs": [
    {
     "data": {
      "text/plain": [
       "678.0"
      ]
     },
     "execution_count": 5,
     "metadata": {},
     "output_type": "execute_result"
    }
   ],
   "source": [
    "df['women_participants'].median()"
   ]
  },
  {
   "cell_type": "markdown",
   "id": "681bf748",
   "metadata": {},
   "source": [
    "##### Calcular la mitjana aritmètica. "
   ]
  },
  {
   "cell_type": "code",
   "execution_count": 6,
   "id": "8a36432d",
   "metadata": {},
   "outputs": [
    {
     "data": {
      "text/plain": [
       "1489.7777777777778"
      ]
     },
     "execution_count": 6,
     "metadata": {},
     "output_type": "execute_result"
    }
   ],
   "source": [
    "df['women_participants'].mean()"
   ]
  },
  {
   "cell_type": "markdown",
   "id": "8c8b90d9",
   "metadata": {},
   "source": [
    "##### Calcular la moda.\n",
    "Com a la columna 'women_participants' tots els valors són únics  trobarem la de la columna 'sports' que és bimodal"
   ]
  },
  {
   "cell_type": "code",
   "execution_count": 7,
   "id": "9814f322",
   "metadata": {},
   "outputs": [
    {
     "data": {
      "text/plain": [
       "0    2\n",
       "dtype: int64"
      ]
     },
     "execution_count": 7,
     "metadata": {},
     "output_type": "execute_result"
    }
   ],
   "source": [
    "df['sports'].mode()"
   ]
  },
  {
   "cell_type": "markdown",
   "id": "e6d64ae4",
   "metadata": {},
   "source": [
    "### Exercici 2\n",
    "##### Correlació entre el número d'esdeveniments femenins i el total d'esdeveniments. Molt proper al'1, com era d'esperar"
   ]
  },
  {
   "cell_type": "code",
   "execution_count": 8,
   "id": "689e64e6",
   "metadata": {},
   "outputs": [
    {
     "data": {
      "text/plain": [
       "0.9787079943315402"
      ]
     },
     "execution_count": 8,
     "metadata": {},
     "output_type": "execute_result"
    }
   ],
   "source": [
    "df['womens_events'].corr(df['total_events'])"
   ]
  },
  {
   "cell_type": "code",
   "execution_count": 14,
   "id": "f2ab15bb",
   "metadata": {},
   "outputs": [
    {
     "data": {
      "text/plain": [
       "<matplotlib.axes._subplots.AxesSubplot at 0x7f9a372b4c40>"
      ]
     },
     "execution_count": 14,
     "metadata": {},
     "output_type": "execute_result"
    },
    {
     "data": {
      "image/png": "[encoded data removed]",
      "text/plain": [
       "<Figure size 432x288 with 1 Axes>"
      ]
     },
     "metadata": {
      "needs_background": "light"
     },
     "output_type": "display_data"
    }
   ],
   "source": [
    "corr = df.corr()\n",
    "cmap = sns.light_palette(\"#114477\", as_cmap=True)\n",
    "sns.heatmap(corr, cmap=cmap, annot=True, linewidths=0.5, center=0.95, cbar=False, xticklabels=True)"
   ]
  },
  {
   "cell_type": "markdown",
   "id": "913c7d78",
   "metadata": {},
   "source": [
    "### Exercici 3\n",
    "##### Mitjana geomètrica"
   ]
  },
  {
   "cell_type": "code",
   "execution_count": 10,
   "id": "3d972222",
   "metadata": {},
   "outputs": [
    {
     "name": "stdout",
     "output_type": "stream",
     "text": [
      "La mitjana geomètrica de la columna:  536.3182031599473\n"
     ]
    }
   ],
   "source": [
    "#columna a llista\n",
    "women_list = df['women_participants'].tolist()\n",
    "multiply = 1\n",
    "n = len(women_list)\n",
    "\n",
    "#es multipliquen tots els valors\n",
    "for i in women_list:\n",
    "    multiply = (multiply)*(i)\n",
    "\n",
    "#es fa l'arrel a la n potència del resultat. n=número de valors de la llista\n",
    "geometricMean = (multiply)**(1/n)\n",
    "print ('La mitjana geomètrica de la columna: ', geometricMean) "
   ]
  },
  {
   "cell_type": "code",
   "execution_count": 11,
   "id": "8a0caaf7",
   "metadata": {},
   "outputs": [
    {
     "data": {
      "text/plain": [
       "536.3182031599476"
      ]
     },
     "execution_count": 11,
     "metadata": {},
     "output_type": "execute_result"
    }
   ],
   "source": [
    "#per no complicar-se la vida\n",
    "from scipy.stats.mstats import gmean\n",
    "gmean(women_list)"
   ]
  },
  {
   "cell_type": "markdown",
   "id": "f499f578",
   "metadata": {},
   "source": [
    "##### Mithana harmònica"
   ]
  },
  {
   "cell_type": "code",
   "execution_count": 12,
   "id": "f7e1325b",
   "metadata": {},
   "outputs": [
    {
     "name": "stdout",
     "output_type": "stream",
     "text": [
      "La mitjana harmònica de la columna:  85.74843110247589\n"
     ]
    }
   ],
   "source": [
    "harm=len(women_list) / sum(1. / val for val in women_list)\n",
    "print ('La mitjana harmònica de la columna: ', harm) "
   ]
  },
  {
   "cell_type": "code",
   "execution_count": 13,
   "id": "524762aa",
   "metadata": {},
   "outputs": [
    {
     "data": {
      "text/plain": [
       "85.74843110247589"
      ]
     },
     "execution_count": 13,
     "metadata": {},
     "output_type": "execute_result"
    }
   ],
   "source": [
    "import statistics as s\n",
    "s.harmonic_mean(women_list)"
   ]
  },
  {
   "cell_type": "code",
   "execution_count": null,
   "id": "0ed5419e",
   "metadata": {},
   "outputs": [],
   "source": []
  }
 ],
 "metadata": {
  "kernelspec": {
   "display_name": "Python 3",
   "language": "python",
   "name": "python3"
  },
  "language_info": {
   "codemirror_mode": {
    "name": "ipython",
    "version": 3
   },
   "file_extension": ".py",
   "mimetype": "text/x-python",
   "name": "python",
   "nbconvert_exporter": "python",
   "pygments_lexer": "ipython3",
   "version": "3.8.5"
  }
 },
 "nbformat": 4,
 "nbformat_minor": 5
}
